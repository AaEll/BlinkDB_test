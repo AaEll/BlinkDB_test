{
 "cells": [
  {
   "cell_type": "code",
   "execution_count": 4,
   "metadata": {},
   "outputs": [],
   "source": [
    "import numpy as np\n",
    "import matplotlib.pyplot as plt\n",
    "%matplotlib inline "
   ]
  },
  {
   "cell_type": "code",
   "execution_count": null,
   "metadata": {},
   "outputs": [],
   "source": [
    "scale = [20,21,22,23,24,25,26,27,28]\n",
    "LiveGraph = {}\n",
    "LiveGraph['seek'] = \\\n",
    "[1.34E-7,1.77E-07,1.58E-07,3.40E-07,\\\n",
    " 2.36E-07,2.26E-07,2.27E-07,2.55E-07,2.71E-07]\n",
    "LiveGraph['scan'] = \\\n",
    "[7.63E-09,2.10E-08,3.34E-08,3.19E-08,\\\n",
    " 3.31E-08,2.25E-08,2.78E-08,2.76E-08,3.84E-08]\n",
    "\n",
    "LMDB = {}\n",
    "LMDB['seek'] = \\\n",
    "[0.000000728,0.000000808,0.000000852,0.000001016,\\\n",
    " 0.00000114,0.000001278,0.00000141,0.000001452,0.000001492]\n",
    "LMDB['scan'] = \\\n",
    "[0.00000014,0.000000144,0.000000176,0.00000011,\\\n",
    "0.000000144,0.000000148,0.000000124,0.000000344,0.000000208]\n",
    "\n",
    "rocksDB = {}\n",
    "rocksDB['seek'] = \\\n",
    "[0.000005294,0.000004956,0.000006558,0.000007777,\\\n",
    "0.00001044,0.000013499,0.000008892,0.000013241,0.000009305]\n",
    "rocksDB['scan'] = \\\n",
    "[0.000000636,0.000000792,0.000001232,0.000001583,\n",
    "0.000002881,0.000003248,0.000001923,0.000004332,0.000002624]\n"
   ]
  },
  {
   "cell_type": "code",
   "execution_count": 10,
   "metadata": {},
   "outputs": [
    {
     "name": "stderr",
     "output_type": "stream",
     "text": [
      "/Users/aaell/anaconda3/lib/python3.7/site-packages/matplotlib/cbook/__init__.py:424: MatplotlibDeprecationWarning: \n",
      "Passing one of 'on', 'true', 'off', 'false' as a boolean is deprecated; use an actual boolean (True/False) instead.\n",
      "  warn_deprecated(\"2.2\", \"Passing one of 'on', 'true', 'off', 'false' as a \"\n"
     ]
    },
    {
     "data": {
      "image/png": "[encoded data removed]",
      "text/plain": [
       "<Figure size 288x180 with 2 Axes>"
      ]
     },
     "metadata": {
      "needs_background": "light"
     },
     "output_type": "display_data"
    }
   ],
   "source": [
    "#!/usr/bin/env python3\n",
    "\n",
    "params = {'legend.fontsize': 15,\n",
    "          'lines.linewidth': 1,\n",
    "          'pdf.fonttype': 42}\n",
    "plt.rcParams.update(params)\n",
    "\n",
    "fig, ax = plt.subplots()\n",
    "fig.set_size_inches(4, 2.5)\n",
    "\n",
    "latency_corun = [0.164245, 0.237357, 0.436652, 0.641406, 0.775183, 0.880378]\n",
    "latency_alone = [0.085618, 0.102867, 0.155946, 0.209481, 0.26169, 0.284247]\n",
    "\n",
    "time_pagerank = [11.252377, 12.556378, 13.143194, 13.312559, 13.461941, 13.500465]\n",
    "\n",
    "\n",
    "ax.plot([1, 2, 4, 8, 16, 32], latency_corun, '-o', color='black', label='LinkBench Co-run')\n",
    "ax.plot([1, 2, 4, 8, 16, 32], latency_alone, '--.', color='black', label='LinkBench Alone')\n",
    "\n",
    "ax.set_xscale('log')\n",
    "# ax.set_yscale('log')\n",
    "ax.set_xlim([0.8, 40])\n",
    "ax.set_ylim([0, 1])\n",
    "ax.set_xlabel('Request Rate (K req/s)', fontsize=15)\n",
    "ax.set_ylabel('Latency (ms)', fontsize=15)\n",
    "ax.set_xticks([0.8, 1, 2, 4, 8, 16, 32, 40])\n",
    "ax.set_xticklabels(['', '40', '80', '160', '320', '640', '1280', ''], fontsize=12)\n",
    "ax.set_yticks([0.1, 0.4, 0.7, 1.0])\n",
    "ax.set_yticklabels(['0.1', '0.4', '0.7', '0.9'], fontsize=15)\n",
    "ax.tick_params(axis='x', which='both', top='off', bottom='off')\n",
    "\n",
    "ax2 = ax.twinx()\n",
    "ax2.plot([1, 2, 4, 8, 16, 32], time_pagerank, '-o', color='grey', markerfacecolor='none', label='PageRank')\n",
    "# ax2.set_xscale('log')\n",
    "# ax2.set_yscale('log')\n",
    "ax2.set_xlim([0.8, 40])\n",
    "ax2.set_ylim([0, 15])\n",
    "# ax2.set_xticks([0.8, 1, 2, 4, 8, 16, 32, 40])\n",
    "# ax2.set_xticklabels(['', '40K', '80K', '160K', '320K', '640K', '1.28M', ''], fontsize=15)\n",
    "ax2.set_yticks([3, 7, 11, 15])\n",
    "ax2.set_yticklabels(['3', '7', '11', '15'], fontsize=15)\n",
    "ax2.set_ylabel('Runtime (s)', fontsize=15)\n",
    "\n",
    "legend = ax2.legend(loc='lower center')\n",
    "for legend_handle in legend.legendHandles:\n",
    "    legend_handle.set_linewidth(1.0)\n",
    "    legend_handle._legmarker.set_markersize(3)\n",
    "# legend = ax.legend(loc='lower right')\n",
    "# for legend_handle in legend.legendHandles:\n",
    "#     legend_handle._legmarker.set_markersize(3)\n",
    "\n",
    "fig.tight_layout()\n",
    "#fig.savefig('htap_32_olap_workers.pdf')\n",
    "\n"
   ]
  },
  {
   "cell_type": "code",
   "execution_count": null,
   "metadata": {},
   "outputs": [],
   "source": []
  },
  {
   "cell_type": "code",
   "execution_count": null,
   "metadata": {},
   "outputs": [],
   "source": []
  }
 ],
 "metadata": {
  "kernelspec": {
   "display_name": "Python 3",
   "language": "python",
   "name": "python3"
  },
  "language_info": {
   "codemirror_mode": {
    "name": "ipython",
    "version": 3
   },
   "file_extension": ".py",
   "mimetype": "text/x-python",
   "name": "python",
   "nbconvert_exporter": "python",
   "pygments_lexer": "ipython3",
   "version": "3.7.1"
  }
 },
 "nbformat": 4,
 "nbformat_minor": 2
}
